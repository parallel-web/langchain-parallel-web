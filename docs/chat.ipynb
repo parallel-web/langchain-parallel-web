{
 "cells": [
  {
   "cell_type": "markdown",
   "id": "e49f1e0d",
   "metadata": {},
   "source": "# ChatParallelWeb\n\nThis will help you getting started with Parallel [chat models](/docs/concepts/chat_models). For detailed documentation of all ChatParallelWeb features and configurations head to the [API reference](https://python.langchain.com/api_reference/parallel_web/chat_models/langchain_parallel_web.chat_models.ChatParallelWeb.html).\n\nParallel provides real-time web research capabilities through an OpenAI-compatible chat interface, allowing your AI applications to access current information from the web.\n\n## Overview\n### Integration details\n\n| Class | Package | Local | Serializable | JS support | Package downloads | Package latest |\n| :--- | :--- | :---: | :---: |  :---: | :---: | :---: |\n| [ChatParallelWeb](https://python.langchain.com/api_reference/parallel_web/chat_models/langchain_parallel_web.chat_models.ChatParallelWeb.html) | [langchain-parallel-web](https://python.langchain.com/api_reference/parallel_web/) | ❌ | ✅ | ❌ | ![PyPI - Downloads](https://img.shields.io/pypi/dm/langchain-parallel-web?style=flat-square&label=%20) | ![PyPI - Version](https://img.shields.io/pypi/v/langchain-parallel-web?style=flat-square&label=%20) |\n\n### Model features\n| [Tool calling](/docs/how_to/tool_calling) | [Structured output](/docs/how_to/structured_output/) | JSON mode | [Image input](/docs/how_to/multimodal_inputs/) | Audio input | Video input | [Token-level streaming](/docs/how_to/chat_streaming/) | Native async | [Token usage](/docs/how_to/chat_token_usage_tracking/) | [Logprobs](/docs/how_to/logprobs/) |\n| :---: | :---: | :---: | :---: |  :---: | :---: | :---: | :---: | :---: | :---: |\n| ❌ | ❌ | ❌ | ❌ | ❌ | ❌ | ✅ | ✅ | ❌ | ❌ | \n\n## Setup\n\nTo access Parallel models you'll need to create a Parallel account, get an API key, and install the `langchain-parallel-web` integration package.\n\n### Credentials\n\nHead to [Parallel](https://beta.parallel.ai) to sign up and generate an API key. Once you've done this set the PARALLEL_API_KEY environment variable:"
  },
  {
   "cell_type": "code",
   "execution_count": null,
   "id": "433e8d2b-9519-4b49-b2c4-7ab65b046c94",
   "metadata": {},
   "outputs": [],
   "source": [
    "import getpass\n",
    "import os\n",
    "\n",
    "if not os.getenv(\"PARALLEL_API_KEY\"):\n",
    "    os.environ[\"PARALLEL_API_KEY\"] = getpass.getpass(\"Enter your Parallel API key: \")"
   ]
  },
  {
   "cell_type": "markdown",
   "id": "0730d6a1-c893-4840-9817-5e5251676d5d",
   "metadata": {},
   "source": [
    "### Installation\n",
    "\n",
    "The LangChain ParallelWeb integration lives in the `langchain-parallel-web` package:"
   ]
  },
  {
   "cell_type": "code",
   "execution_count": null,
   "id": "652d6238-1f87-422a-b135-f5abbb8652fc",
   "metadata": {},
   "outputs": [],
   "source": [
    "%pip install -qU langchain-parallel-web"
   ]
  },
  {
   "cell_type": "markdown",
   "id": "a38cde65-254d-4219-a441-068766c0d4b5",
   "metadata": {},
   "source": [
    "## Instantiation\n",
    "\n",
    "Now we can instantiate our model object and generate chat completions. The default model is \"speed\" which provides fast responses:"
   ]
  },
  {
   "cell_type": "code",
   "execution_count": null,
   "id": "cb09c344-1836-4e0c-acf8-11d13ac1dbae",
   "metadata": {},
   "outputs": [],
   "source": [
    "from langchain_parallel_web import ChatParallelWeb\n",
    "\n",
    "llm = ChatParallelWeb(\n",
    "    model=\"speed\",  # Default model with fast responses\n",
    "    temperature=0.7,\n",
    "    max_tokens=None,\n",
    "    timeout=None,\n",
    "    max_retries=2,\n",
    "    # api_key=\"your-api-key\"  # Optional if set in environment\n",
    "    # base_url=\"https://api.parallel.ai\"  # Optional, uses default\n",
    "    # OpenAI-compatible parameters (ignored by Parallel but supported for compatibility)\n",
    "    # response_format={\"type\": \"json_object\"},  # Ignored\n",
    "    # tools=[...],  # Ignored\n",
    "    # tool_choice=\"auto\",  # Ignored\n",
    "    # top_p=1.0,  # Ignored\n",
    "    # frequency_penalty=0.0,  # Ignored\n",
    "    # presence_penalty=0.0,  # Ignored\n",
    ")"
   ]
  },
  {
   "cell_type": "markdown",
   "id": "2b4f3e15",
   "metadata": {},
   "source": [
    "## Invocation"
   ]
  },
  {
   "cell_type": "code",
   "execution_count": null,
   "id": "62e0dbc3",
   "metadata": {
    "tags": []
   },
   "outputs": [],
   "source": [
    "messages = [\n",
    "    (\n",
    "        \"system\",\n",
    "        \"You are a helpful assistant with access to real-time web information.\",\n",
    "    ),\n",
    "    (\"human\", \"What are the latest developments in AI?\"),\n",
    "]\n",
    "ai_msg = llm.invoke(messages)\n",
    "ai_msg"
   ]
  },
  {
   "cell_type": "code",
   "execution_count": null,
   "id": "d86145b3-bfef-46e8-b227-4dda5c9c2705",
   "metadata": {},
   "outputs": [],
   "source": [
    "print(ai_msg.content)"
   ]
  },
  {
   "cell_type": "markdown",
   "id": "18e2bfc0-7e78-4528-a73f-499ac150dca8",
   "metadata": {},
   "source": [
    "## Chaining\n",
    "\n",
    "We can [chain](/docs/how_to/sequence/) our model with a prompt template like so:"
   ]
  },
  {
   "cell_type": "code",
   "execution_count": null,
   "id": "e197d1d7-a070-4c96-9f8a-a0e86d046e0b",
   "metadata": {},
   "outputs": [],
   "source": [
    "from langchain_core.prompts import ChatPromptTemplate\n",
    "\n",
    "prompt = ChatPromptTemplate(\n",
    "    [\n",
    "        (\n",
    "            \"system\",\n",
    "            \"You are a helpful research assistant with access to real-time web information. \"\n",
    "            \"Provide comprehensive answers about {topic} with current data.\",\n",
    "        ),\n",
    "        (\"human\", \"{question}\"),\n",
    "    ]\n",
    ")\n",
    "\n",
    "chain = prompt | llm\n",
    "chain.invoke(\n",
    "    {\n",
    "        \"topic\": \"artificial intelligence\",\n",
    "        \"question\": \"What are the most significant AI breakthroughs in 2024?\",\n",
    "    }\n",
    ")"
   ]
  },
  {
   "cell_type": "markdown",
   "id": "d1ee55bc-ffc8-4cfa-801c-993953a08cfd",
   "metadata": {},
   "source": "## Streaming\n\nChatParallelWeb supports streaming responses for real-time output:\n\n```python\nfor chunk in llm.stream(messages):\n    print(chunk.content, end=\"\")\n```\n\n## Async\n\nYou can also use async operations:\n\n```python\n# Async invoke\nai_msg = await llm.ainvoke(messages)\n\n# Async streaming  \nasync for chunk in llm.astream(messages):\n    print(chunk.content, end=\"\")\n```\n\n## Token Usage\n\n**Note**: Parallel does not currently provide token usage metadata. The `usage_metadata` field will be `None`:\n\n```python\nai_msg = llm.invoke(messages)\nprint(ai_msg.usage_metadata)\n# Output: None\n```\n\n## Response Metadata\n\nAccess response metadata from the API:\n\n```python\nai_msg = llm.invoke(messages)\nprint(ai_msg.response_metadata)\n# Output: {'model': 'speed', 'finish_reason': 'stop', 'created': 1703123456}\n```\n\n## Error Handling\n\nThe integration provides enhanced error handling for common scenarios:\n\n```python\nfrom langchain_parallel_web import ChatParallelWeb\n\ntry:\n    llm = ChatParallelWeb(api_key=\"invalid-key\")\n    response = llm.invoke([(\"human\", \"Hello\")])\nexcept ValueError as e:\n    if \"Authentication failed\" in str(e):\n        print(\"Invalid API key provided\")\n    elif \"Rate limit exceeded\" in str(e):\n        print(\"API rate limit exceeded, please try again later\")\n```\n\n## OpenAI Compatibility\n\nChatParallelWeb supports many OpenAI-compatible parameters for easy migration, though most are ignored by the Parallel API:\n\n```python\nllm = ChatParallelWeb(\n    model=\"speed\",\n    # These parameters are accepted but ignored by Parallel\n    response_format={\"type\": \"json_object\"},\n    tools=[{\"type\": \"function\", \"function\": {\"name\": \"example\"}}],\n    tool_choice=\"auto\",\n    top_p=1.0,\n    frequency_penalty=0.0,\n    presence_penalty=0.0,\n    logit_bias={},\n    seed=42,\n    user=\"user-123\"\n)\n```\n\n## Message Handling\n\nThe integration automatically handles message formatting and merges consecutive messages of the same type to satisfy API requirements:\n\n```python\nfrom langchain_core.messages import HumanMessage, SystemMessage\n\n# These consecutive system messages will be automatically merged\nmessages = [\n    SystemMessage(\"You are a helpful assistant.\"),\n    SystemMessage(\"Always be polite and concise.\"),\n    HumanMessage(\"What is the weather like today?\")\n]\n\n# Automatically merged to single system message before API call\nresponse = llm.invoke(messages)\n```"
  },
  {
   "cell_type": "markdown",
   "id": "3a5bb5ca-c3ae-4a58-be67-2cd18574b9a3",
   "metadata": {},
   "source": [
    "## API reference\n",
    "\n",
    "For detailed documentation of all ChatParallelWeb features and configurations head to the [API reference](https://python.langchain.com/api_reference/parallel_web/chat_models/langchain_parallel_web.chat_models.ChatParallelWeb.html)"
   ]
  }
 ],
 "metadata": {
  "kernelspec": {
   "display_name": "Python 3 (ipykernel)",
   "language": "python",
   "name": "python3"
  },
  "language_info": {
   "codemirror_mode": {
    "name": "ipython",
    "version": 3
   },
   "file_extension": ".py",
   "mimetype": "text/x-python",
   "name": "python",
   "nbconvert_exporter": "python",
   "pygments_lexer": "ipython3",
   "version": "3.11.9"
  }
 },
 "nbformat": 4,
 "nbformat_minor": 5
}