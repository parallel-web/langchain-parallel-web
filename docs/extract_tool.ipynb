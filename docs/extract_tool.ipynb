{
 "cells": [
  {
   "cell_type": "markdown",
   "id": "a6f91f20",
   "metadata": {},
   "source": [
    "# ParallelExtractTool\n",
    "\n",
    "This notebook provides a quick overview for getting started with Parallel AI [extract tool](/docs/integrations/tools/). For detailed documentation of all ParallelExtractTool features and configurations head to the [API reference](https://python.langchain.com/api_reference/parallel_web/extract_tool/langchain_parallel_web.extract_tool.ParallelExtractTool.html).\n",
    "\n",
    "The ParallelExtractTool provides access to Parallel AI's Extract API, which extracts clean, structured content from web pages.\n",
    "\n",
    "## Overview\n",
    "\n",
    "### Integration details\n",
    "\n",
    "| Class | Package | Serializable | JS support |  Package latest |\n",
    "| :--- | :--- | :---: | :---: | :---: |\n",
    "| [ParallelExtractTool](https://python.langchain.com/api_reference/parallel_web/extract_tool/langchain_parallel_web.extract_tool.ParallelExtractTool.html) | [langchain-parallel-web](https://python.langchain.com/api_reference/parallel_web/) | ❌ | ❌ |  ![PyPI - Version](https://img.shields.io/pypi/v/langchain-parallel-web?style=flat-square&label=%20) |\n",
    "\n",
    "### Tool features\n",
    "\n",
    "- **Clean content extraction**: Extracts main content from web pages, removing ads, navigation, and boilerplate\n",
    "- **Markdown formatting**: Returns content formatted as clean markdown\n",
    "- **Batch processing**: Extract from multiple URLs in a single API call\n",
    "- **Metadata extraction**: Includes title, publish date, and other metadata\n",
    "- **Content length control**: Configure maximum characters per extraction\n",
    "- **Error handling**: Gracefully handles failed extractions with detailed error information\n",
    "- **Async support**: Full async/await support for better performance\n",
    "\n",
    "## Setup\n",
    "\n",
    "The integration lives in the `langchain-parallel-web` package."
   ]
  },
  {
   "cell_type": "code",
   "execution_count": null,
   "id": "f85b4089",
   "metadata": {},
   "outputs": [],
   "source": [
    "%pip install --quiet -U langchain-parallel-web"
   ]
  },
  {
   "cell_type": "markdown",
   "id": "b15e9266",
   "metadata": {},
   "source": [
    "### Credentials\n",
    "\n",
    "Head to [Parallel AI](https://beta.parallel.ai) to sign up and generate an API key. Once you've done this set the PARALLEL_AI_API_KEY environment variable:"
   ]
  },
  {
   "cell_type": "code",
   "execution_count": null,
   "id": "e0b178a2",
   "metadata": {},
   "outputs": [],
   "source": [
    "import getpass\n",
    "import os\n",
    "\n",
    "if not os.environ.get(\"PARALLEL_AI_API_KEY\"):\n",
    "    os.environ[\"PARALLEL_AI_API_KEY\"] = getpass.getpass(\"Parallel AI API key:\\n\")"
   ]
  },
  {
   "cell_type": "markdown",
   "id": "1c97218f",
   "metadata": {},
   "source": [
    "## Instantiation\n",
    "\n",
    "Here we show how to instantiate an instance of the ParallelExtractTool. The tool can be configured with API key and content length parameters:"
   ]
  },
  {
   "cell_type": "code",
   "execution_count": null,
   "id": "8b3ddfe9",
   "metadata": {},
   "outputs": [],
   "source": [
    "from langchain_parallel_web import ParallelExtractTool\n",
    "\n",
    "# Basic instantiation - API key from environment\n",
    "tool = ParallelExtractTool()\n",
    "\n",
    "# With explicit API key and custom settings\n",
    "tool = ParallelExtractTool(\n",
    "    api_key=\"your-api-key\",\n",
    "    base_url=\"https://api.parallel.ai\",  # default value\n",
    "    max_chars_per_extract=5000,  # Limit content length\n",
    ")"
   ]
  },
  {
   "cell_type": "markdown",
   "id": "74147a1a",
   "metadata": {},
   "source": [
    "## Invocation\n",
    "\n",
    "### [Invoke directly with args](/docs/concepts/tools/#use-the-tool-directly)\n",
    "\n",
    "You can invoke the tool with a list of URLs to extract content from:"
   ]
  },
  {
   "cell_type": "code",
   "execution_count": null,
   "id": "f9ce00d0",
   "metadata": {},
   "outputs": [],
   "source": [
    "# Extract from a single URL\n",
    "result = tool.invoke(\n",
    "    {\"urls\": [\"https://en.wikipedia.org/wiki/Artificial_intelligence\"]}\n",
    ")\n",
    "\n",
    "print(f\"Extracted {len(result)} result(s)\")\n",
    "print(f\"Title: {result[0]['title']}\")\n",
    "print(f\"URL: {result[0]['url']}\")\n",
    "print(f\"Content length: {len(result[0]['content'])} characters\")\n",
    "print(f\"Content preview: {result[0]['content'][:200]}...\")"
   ]
  },
  {
   "cell_type": "code",
   "execution_count": null,
   "id": "65310a8b",
   "metadata": {},
   "outputs": [],
   "source": [
    "# Extract from multiple URLs\n",
    "result = tool.invoke(\n",
    "    {\n",
    "        \"urls\": [\n",
    "            \"https://en.wikipedia.org/wiki/Machine_learning\",\n",
    "            \"https://en.wikipedia.org/wiki/Deep_learning\",\n",
    "            \"https://en.wikipedia.org/wiki/Natural_language_processing\",\n",
    "        ]\n",
    "    }\n",
    ")\n",
    "\n",
    "print(f\"Extracted {len(result)} results\")\n",
    "for i, item in enumerate(result, 1):\n",
    "    print(f\"\\n{i}. {item['title']}\")\n",
    "    print(f\"   URL: {item['url']}\")\n",
    "    print(f\"   Content length: {len(item['content'])} characters\")\n",
    "\n",
    "# Example response structure:\n",
    "# [\n",
    "#     {\n",
    "#         \"url\": \"https://example.com/article\",\n",
    "#         \"title\": \"Article Title\",\n",
    "#         \"content\": \"# Article Title\\n\\nMain content in markdown...\",\n",
    "#         \"publish_date\": \"2024-01-15\"  # Optional\n",
    "#     }\n",
    "# ]"
   ]
  },
  {
   "cell_type": "markdown",
   "id": "d6e73897",
   "metadata": {},
   "source": [
    "### [Invoke with ToolCall](/docs/concepts/tool_calling/#tool-execution)\n",
    "\n",
    "We can also invoke the tool with a model-generated ToolCall, in which case a ToolMessage will be returned:"
   ]
  },
  {
   "cell_type": "code",
   "execution_count": null,
   "id": "f90e33a7",
   "metadata": {},
   "outputs": [],
   "source": [
    "# This is usually generated by a model, but we'll create a tool call directly for demo purposes.\n",
    "model_generated_tool_call = {\n",
    "    \"args\": {\n",
    "        \"urls\": [\n",
    "            \"https://en.wikipedia.org/wiki/Climate_change\",\n",
    "            \"https://en.wikipedia.org/wiki/Renewable_energy\",\n",
    "        ]\n",
    "    },\n",
    "    \"id\": \"call_123\",\n",
    "    \"name\": tool.name,  # \"parallel_extract\"\n",
    "    \"type\": \"tool_call\",\n",
    "}\n",
    "\n",
    "result = tool.invoke(model_generated_tool_call)\n",
    "print(result)\n",
    "print(f\"Tool name: {tool.name}\")  # parallel_extract\n",
    "print(f\"Tool description: {tool.description}\")"
   ]
  },
  {
   "cell_type": "markdown",
   "id": "1j17duujzxq",
   "metadata": {},
   "source": [
    "### [Async Usage](/docs/concepts/tools/#async)\n",
    "\n",
    "The tool supports full async/await operations for better performance in async applications:"
   ]
  },
  {
   "cell_type": "code",
   "execution_count": null,
   "id": "2xpzy5rbngp",
   "metadata": {},
   "outputs": [],
   "source": [
    "async def extract_async():\n",
    "    return await tool.ainvoke(\n",
    "        {\n",
    "            \"urls\": [\n",
    "                \"https://en.wikipedia.org/wiki/Python_(programming_language)\",\n",
    "                \"https://en.wikipedia.org/wiki/JavaScript\",\n",
    "            ]\n",
    "        }\n",
    "    )\n",
    "\n",
    "\n",
    "# Run async extraction\n",
    "result = await extract_async()\n",
    "print(f\"Extracted {len(result)} results asynchronously\")"
   ]
  },
  {
   "cell_type": "markdown",
   "id": "579exg8m819",
   "metadata": {},
   "source": [
    "### Content Length Control\n",
    "\n",
    "You can configure the maximum characters per extraction to control content length:"
   ]
  },
  {
   "cell_type": "code",
   "execution_count": null,
   "id": "u1j3ddzqsv",
   "metadata": {},
   "outputs": [],
   "source": [
    "# Create tool with content length limit\n",
    "limited_tool = ParallelExtractTool(max_chars_per_extract=2000)\n",
    "\n",
    "result = limited_tool.invoke(\n",
    "    {\"urls\": [\"https://en.wikipedia.org/wiki/Quantum_computing\"]}\n",
    ")\n",
    "\n",
    "print(f\"Content length: {len(result[0]['content'])} characters\")\n",
    "print(\"Content is limited to approximately 2000 characters\")"
   ]
  },
  {
   "cell_type": "markdown",
   "id": "error_handling",
   "metadata": {},
   "source": [
    "### Error Handling\n",
    "\n",
    "The tool gracefully handles URLs that fail to extract, including them in results with error information:"
   ]
  },
  {
   "cell_type": "code",
   "execution_count": null,
   "id": "error_example",
   "metadata": {},
   "outputs": [],
   "source": [
    "# Mix of valid and invalid URLs\n",
    "result = tool.invoke(\n",
    "    {\n",
    "        \"urls\": [\n",
    "            \"https://en.wikipedia.org/wiki/Artificial_intelligence\",\n",
    "            \"https://this-domain-does-not-exist-12345.com/\",\n",
    "        ]\n",
    "    }\n",
    ")\n",
    "\n",
    "for item in result:\n",
    "    if \"error_type\" in item:\n",
    "        print(f\"Failed: {item['url']}\")\n",
    "        print(f\"Error: {item['content']}\")\n",
    "    else:\n",
    "        print(f\"Success: {item['url']}\")\n",
    "        print(f\"Extracted {len(item['content'])} characters\")"
   ]
  },
  {
   "cell_type": "markdown",
   "id": "659f9fbd",
   "metadata": {},
   "source": [
    "## Chaining\n",
    "\n",
    "We can use our tool in a chain by first binding it to a [tool-calling model](/docs/how_to/tool_calling/) and then calling it:\n",
    "\n",
    "import ChatModelTabs from \"@theme/ChatModelTabs\";\n",
    "\n",
    "<ChatModelTabs customVarName=\"llm\" />"
   ]
  },
  {
   "cell_type": "code",
   "execution_count": null,
   "id": "af3123ad",
   "metadata": {},
   "outputs": [],
   "source": [
    "# | output: false\n",
    "# | echo: false\n",
    "\n",
    "# !pip install -qU langchain langchain-openai\n",
    "from langchain.chat_models import init_chat_model\n",
    "\n",
    "llm = init_chat_model(model=\"gpt-4o\", model_provider=\"openai\")"
   ]
  },
  {
   "cell_type": "code",
   "execution_count": null,
   "id": "fdbf35b5",
   "metadata": {},
   "outputs": [],
   "source": [
    "from langchain_core.prompts import ChatPromptTemplate\n",
    "from langchain_core.runnables import RunnableConfig, chain\n",
    "\n",
    "prompt = ChatPromptTemplate(\n",
    "    [\n",
    "        (\n",
    "            \"system\",\n",
    "            \"You are a helpful assistant that extracts and summarizes web content.\",\n",
    "        ),\n",
    "        (\"human\", \"{user_input}\"),\n",
    "        (\"placeholder\", \"{messages}\"),\n",
    "    ]\n",
    ")\n",
    "\n",
    "# specifying tool_choice will force the model to call this tool.\n",
    "llm_with_tools = llm.bind_tools([tool], tool_choice=tool.name)\n",
    "\n",
    "llm_chain = prompt | llm_with_tools\n",
    "\n",
    "\n",
    "@chain\n",
    "def tool_chain(user_input: str, config: RunnableConfig):\n",
    "    input_ = {\"user_input\": user_input}\n",
    "    ai_msg = llm_chain.invoke(input_, config=config)\n",
    "    tool_msgs = tool.batch(ai_msg.tool_calls, config=config)\n",
    "    return llm_chain.invoke({**input_, \"messages\": [ai_msg, *tool_msgs]}, config=config)\n",
    "\n",
    "\n",
    "tool_chain.invoke(\n",
    "    \"Extract and summarize the content from https://en.wikipedia.org/wiki/Large_language_model\"\n",
    ")"
   ]
  },
  {
   "cell_type": "markdown",
   "id": "4ac8146c",
   "metadata": {},
   "source": [
    "## Best Practices\n",
    "\n",
    "- **Batch URLs**: Extract multiple URLs in a single call for better performance\n",
    "- **Set content limits**: Use `max_chars_per_extract` to control response size and token usage\n",
    "- **Handle errors**: Check for `error_type` in results to identify failed extractions\n",
    "- **Use async for performance**: Use `ainvoke()` in async applications for better performance\n",
    "- **Metadata fields**: Use `publish_date` and other metadata when available for context\n",
    "\n",
    "## Response Format\n",
    "\n",
    "The tool returns a list of dictionaries with the following format:\n",
    "\n",
    "```python\n",
    "[\n",
    "    {\n",
    "        \"url\": \"https://example.com/article\",\n",
    "        \"title\": \"Article Title\",\n",
    "        \"content\": \"# Article Title\\n\\nMain content formatted as markdown...\",\n",
    "        \"publish_date\": \"2024-01-15\"  # Optional, if available\n",
    "    },\n",
    "    # For failed extractions:\n",
    "    {\n",
    "        \"url\": \"https://failed-site.com\",\n",
    "        \"title\": None,\n",
    "        \"content\": \"Error: 404 Not Found\",\n",
    "        \"error_type\": \"http_error\"\n",
    "    }\n",
    "]\n",
    "```\n",
    "\n",
    "## API reference\n",
    "\n",
    "For detailed documentation of all ParallelExtractTool features and configurations head to the API reference: https://python.langchain.com/api_reference/parallel_web/extract_tool/langchain_parallel_web.extract_tool.ParallelExtractTool.html"
   ]
  }
 ],
 "metadata": {
  "kernelspec": {
   "display_name": "Python 3",
   "language": "python",
   "name": "python3"
  },
  "language_info": {
   "codemirror_mode": {
    "name": "ipython",
    "version": 3
   },
   "file_extension": ".py",
   "mimetype": "text/x-python",
   "name": "python",
   "nbconvert_exporter": "python",
   "pygments_lexer": "ipython3",
   "version": "3.11.0"
  }
 },
 "nbformat": 4,
 "nbformat_minor": 5
}
