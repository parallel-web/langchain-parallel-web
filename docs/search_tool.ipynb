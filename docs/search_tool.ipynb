{
 "cells": [
  {
   "cell_type": "markdown",
   "id": "a6f91f20",
   "metadata": {},
   "source": "# ParallelWebSearchTool\n\nThis notebook provides a quick overview for getting started with Parallel [search tool](/docs/integrations/tools/). For detailed documentation of all ParallelWebSearchTool features and configurations head to the [API reference](https://python.langchain.com/api_reference/parallel_web/search_tool/langchain_parallel_web.search_tool.ParallelWebSearchTool.html).\n\nThe ParallelWebSearchTool provides access to Parallel's Search API, which streamlines the traditional search → scrape → extract pipeline into a single API call, returning structured, LLM-optimized results.\n\n## Overview\n\n### Integration details\n\n| Class | Package | Serializable | JS support |  Package latest |\n| :--- | :--- | :---: | :---: | :---: |\n| [ParallelWebSearchTool](https://python.langchain.com/api_reference/parallel_web/search_tool/langchain_parallel_web.search_tool.ParallelWebSearchTool.html) | [langchain-parallel-web](https://python.langchain.com/api_reference/parallel_web/) | ❌ | ❌ |  ![PyPI - Version](https://img.shields.io/pypi/v/langchain-parallel-web?style=flat-square&label=%20) |\n\n### Tool features\n\n- **Real-time web search**: Access current information from the web\n- **Structured results**: Returns compressed, LLM-optimized excerpts\n- **Flexible input**: Support for natural language objectives or specific search queries\n- **Domain filtering**: Include or exclude specific domains with source policy\n- **Customizable output**: Control number of results (1-40) and excerpt length (min 100 chars)\n- **Rich metadata**: Optional search timing, result counts, and query information\n- **Async support**: Full async/await support with proper executor handling\n- **Error handling**: Comprehensive error handling with detailed error messages\n\n## Setup\n\nThe integration lives in the `langchain-parallel-web` package."
  },
  {
   "cell_type": "code",
   "execution_count": null,
   "id": "f85b4089",
   "metadata": {},
   "outputs": [],
   "source": [
    "%pip install --quiet -U langchain-parallel-web"
   ]
  },
  {
   "cell_type": "markdown",
   "id": "b15e9266",
   "metadata": {},
   "source": [
    "### Credentials\n",
    "\n",
    "Head to [Parallel](https://beta.parallel.ai) to sign up and generate an API key. Once you've done this set the PARALLEL_API_KEY environment variable:"
   ]
  },
  {
   "cell_type": "code",
   "execution_count": null,
   "id": "e0b178a2-8816-40ca-b57c-ccdd86dde9c9",
   "metadata": {},
   "outputs": [],
   "source": [
    "import getpass\n",
    "import os\n",
    "\n",
    "if not os.environ.get(\"PARALLEL_API_KEY\"):\n",
    "    os.environ[\"PARALLEL_API_KEY\"] = getpass.getpass(\"Parallel API key:\\n\")"
   ]
  },
  {
   "cell_type": "markdown",
   "id": "1c97218f-f366-479d-8bf7-fe9f2f6df73f",
   "metadata": {},
   "source": "## Instantiation\n\nHere we show how to instantiate an instance of the ParallelWebSearchTool. The tool can be configured with API key and base URL parameters:"
  },
  {
   "cell_type": "code",
   "execution_count": null,
   "id": "8b3ddfe9-ca79-494c-a7ab-1f56d9407a64",
   "metadata": {},
   "outputs": [],
   "source": [
    "from langchain_parallel_web import ParallelWebSearchTool\n",
    "\n",
    "# Basic instantiation - API key from environment\n",
    "tool = ParallelWebSearchTool()\n",
    "\n",
    "# With explicit API key and custom base URL\n",
    "tool = ParallelWebSearchTool(\n",
    "    api_key=\"your-api-key\",\n",
    "    base_url=\"https://api.parallel.ai\",  # default value\n",
    ")"
   ]
  },
  {
   "cell_type": "markdown",
   "id": "74147a1a",
   "metadata": {},
   "source": "## Invocation\n\n### [Invoke directly with args](/docs/concepts/tools/#use-the-tool-directly)\n\nYou can invoke the tool with either an `objective` (natural language description) or specific `search_queries`. The tool supports various configuration options including domain filtering and metadata collection:"
  },
  {
   "cell_type": "code",
   "execution_count": null,
   "id": "f9ce00d0",
   "metadata": {},
   "outputs": [],
   "source": "# Using specific search queries with advanced options\nresult = tool.invoke(\n    {\n        \"search_queries\": [\n            \"AI breakthroughs 2024\",\n            \"machine learning advances\",\n            \"generative AI news\",\n        ],\n        \"max_results\": 8,\n        \"max_chars_per_result\": 2000,\n        \"source_policy\": {\n            \"include_domains\": [\"arxiv.org\", \"nature.com\"],\n            \"exclude_domains\": [\"reddit.com\", \"twitter.com\"],\n        },\n        \"include_metadata\": True,\n        \"timeout\": 120,  # Custom timeout in seconds\n    }\n)\n\nprint(result)"
  },
  {
   "cell_type": "code",
   "execution_count": null,
   "id": "65310a8b-eb0c-4d9e-a618-4f4abe2414fc",
   "metadata": {},
   "outputs": [],
   "source": "# Using an objective (natural language) with metadata\nresult = tool.invoke(\n    {\n        \"objective\": \"What are the latest developments in artificial intelligence in 2024?\",\n        \"max_results\": 5,\n        \"include_metadata\": True,  # Include search timing and statistics\n    }\n)\n\nprint(result)\n\n# Example response structure:\n# {\n#     \"search_id\": \"search_abc123...\",\n#     \"results\": [\n#         {\n#             \"url\": \"https://example.com/ai-news\",\n#             \"title\": \"Latest AI Developments 2024\",\n#             \"excerpts\": [\n#                 \"Recent breakthrough in transformer architectures...\",\n#                 \"New applications in computer vision...\"\n#             ]\n#         }\n#     ],\n#     \"search_metadata\": {\n#         \"search_duration_seconds\": 4.123,\n#         \"search_timestamp\": \"2024-01-15T10:30:00\",\n#         \"max_results_requested\": 5,\n#         \"actual_results_returned\": 4,\n#         \"search_id\": \"search_abc123...\",\n#         \"query_count\": 1,\n#         \"source_policy_applied\": false\n#     }\n# }"
  },
  {
   "cell_type": "markdown",
   "id": "d6e73897",
   "metadata": {},
   "source": [
    "### [Invoke with ToolCall](/docs/concepts/tool_calling/#tool-execution)\n",
    "\n",
    "We can also invoke the tool with a model-generated ToolCall, in which case a ToolMessage will be returned:"
   ]
  },
  {
   "cell_type": "code",
   "execution_count": null,
   "id": "f90e33a7",
   "metadata": {},
   "outputs": [],
   "source": "# This is usually generated by a model, but we'll create a tool call directly for demo purposes.\nmodel_generated_tool_call = {\n    \"args\": {\n        \"objective\": \"Find recent news about climate change initiatives\",\n        \"max_results\": 3,\n        \"source_policy\": {\"include_domains\": [\"ipcc.ch\", \"unfccc.int\", \"nature.com\"]},\n        \"include_metadata\": True,\n    },\n    \"id\": \"call_123\",\n    \"name\": tool.name,  # \"parallel_web_search\"\n    \"type\": \"tool_call\",\n}\n\nresult = tool.invoke(model_generated_tool_call)\nprint(result)\nprint(f\"Tool name: {tool.name}\")  # parallel_web_search\nprint(f\"Tool description: {tool.description}\")"
  },
  {
   "cell_type": "markdown",
   "id": "1j17duujzxq",
   "metadata": {},
   "source": "### [Async Usage](/docs/concepts/tools/#async)\n\nThe tool supports full async/await operations for better performance in async applications:"
  },
  {
   "cell_type": "code",
   "execution_count": null,
   "id": "2xpzy5rbngp",
   "metadata": {},
   "outputs": [],
   "source": "async def search_async():\n    return await tool.ainvoke(\n        {\n            \"objective\": \"Latest quantum computing breakthroughs\",\n            \"max_results\": 5,\n            \"include_metadata\": True,\n        }\n    )\n\n\n# Run async search\nresult = await search_async()\nprint(result)"
  },
  {
   "cell_type": "markdown",
   "id": "579exg8m819",
   "metadata": {},
   "source": "### Parameter Details and Validation\n\nThe tool performs comprehensive input validation and supports the following parameters:\n\n#### Required Parameters (at least one):\n- `objective`: Natural language description (max 5000 characters)\n- `search_queries`: List of search queries (max 5 queries, 200 chars each)\n\n#### Optional Parameters:\n- `max_results`: Number of results to return (1-40, default: 10)\n- `max_chars_per_result`: Characters per result excerpt (min 100, default: 1500)\n- `source_policy`: Domain filtering with `include_domains` and/or `exclude_domains` lists\n- `include_metadata`: Include search timing and statistics (default: True)\n- `timeout`: Request timeout in seconds (optional)\n\n#### Error Handling:\nThe tool provides detailed error messages for validation failures and API errors."
  },
  {
   "cell_type": "code",
   "execution_count": null,
   "id": "u1j3ddzqsv",
   "metadata": {},
   "outputs": [],
   "source": "# Example of comprehensive parameter usage\nresult = tool.invoke(\n    {\n        \"objective\": \"Find comprehensive information about renewable energy policies in European countries\",\n        \"max_results\": 15,\n        \"max_chars_per_result\": 2500,  # Longer excerpts for detailed information\n        \"source_policy\": {\n            \"include_domains\": [\"europa.eu\", \"iea.org\", \"irena.org\"],\n            \"exclude_domains\": [\"wikipedia.org\", \"reddit.com\"],\n        },\n        \"include_metadata\": True,\n        \"timeout\": 180,  # Extended timeout for comprehensive searches\n    }\n)\n\n# Access results and metadata\nprint(f\"Found {len(result['results'])} results\")\nif \"search_metadata\" in result:\n    metadata = result[\"search_metadata\"]\n    print(f\"Search took {metadata['search_duration_seconds']}s\")\n    print(f\"Source policy applied: {metadata.get('source_policy_applied', False)}\")"
  },
  {
   "cell_type": "markdown",
   "id": "659f9fbd-6fcf-445f-aa8c-72d8e60154bd",
   "metadata": {},
   "source": [
    "## Chaining\n",
    "\n",
    "We can use our tool in a chain by first binding it to a [tool-calling model](/docs/how_to/tool_calling/) and then calling it:\n",
    "\n",
    "import ChatModelTabs from \"@theme/ChatModelTabs\";\n",
    "\n",
    "<ChatModelTabs customVarName=\"llm\" />\n"
   ]
  },
  {
   "cell_type": "code",
   "execution_count": 16,
   "id": "af3123ad-7a02-40e5-b58e-7d56e23e5830",
   "metadata": {},
   "outputs": [],
   "source": [
    "# | output: false\n",
    "# | echo: false\n",
    "\n",
    "# !pip install -qU langchain langchain-openai\n",
    "from langchain.chat_models import init_chat_model\n",
    "\n",
    "llm = init_chat_model(model=\"gpt-4o\", model_provider=\"openai\")"
   ]
  },
  {
   "cell_type": "code",
   "execution_count": null,
   "id": "fdbf35b5-3aaf-4947-9ec6-48c21533fb95",
   "metadata": {},
   "outputs": [],
   "source": [
    "from langchain_core.prompts import ChatPromptTemplate\n",
    "from langchain_core.runnables import RunnableConfig, chain\n",
    "\n",
    "prompt = ChatPromptTemplate(\n",
    "    [\n",
    "        (\"system\", \"You are a helpful assistant.\"),\n",
    "        (\"human\", \"{user_input}\"),\n",
    "        (\"placeholder\", \"{messages}\"),\n",
    "    ]\n",
    ")\n",
    "\n",
    "# specifying tool_choice will force the model to call this tool.\n",
    "llm_with_tools = llm.bind_tools([tool], tool_choice=tool.name)\n",
    "\n",
    "llm_chain = prompt | llm_with_tools\n",
    "\n",
    "\n",
    "@chain\n",
    "def tool_chain(user_input: str, config: RunnableConfig):\n",
    "    input_ = {\"user_input\": user_input}\n",
    "    ai_msg = llm_chain.invoke(input_, config=config)\n",
    "    tool_msgs = tool.batch(ai_msg.tool_calls, config=config)\n",
    "    return llm_chain.invoke({**input_, \"messages\": [ai_msg, *tool_msgs]}, config=config)\n",
    "\n",
    "\n",
    "tool_chain.invoke(\"What are the latest breakthrough discoveries in quantum computing?\")"
   ]
  },
  {
   "cell_type": "markdown",
   "id": "4ac8146c",
   "metadata": {},
   "source": "## Best Practices\n\n- **Use specific objectives**: More specific objectives lead to better, more targeted results\n- **Apply domain filtering**: Use `source_policy` to focus on authoritative sources or exclude unreliable domains\n- **Include metadata**: Set `include_metadata: True` for debugging and performance optimization\n- **Handle errors gracefully**: The tool provides detailed error messages for validation and API failures\n- **Use async for performance**: Use `ainvoke()` in async applications for better performance\n\n## Response Format\n\nThe tool returns a structured dictionary with the following format:\n\n```python\n{\n    \"search_id\": \"search_abc123...\",  # Unique search identifier\n    \"results\": [  # List of search results\n        {\n            \"url\": \"https://example.com/page\",\n            \"title\": \"Page Title\",\n            \"excerpts\": [  # Relevant text excerpts\n                \"First relevant excerpt...\",\n                \"Second relevant excerpt...\"\n            ]\n        }\n    ],\n    \"search_metadata\": {  # Optional metadata (if include_metadata=True)\n        \"search_duration_seconds\": 4.123,\n        \"search_timestamp\": \"2024-01-15T10:30:00\",\n        \"max_results_requested\": 10,\n        \"actual_results_returned\": 8,\n        \"search_id\": \"search_abc123...\",\n        \"query_count\": 3,  # Number of queries used\n        \"queries_used\": [\"query1\", \"query2\", \"query3\"],  # If search_queries provided\n        \"source_policy_applied\": true,  # If source_policy was used\n        \"included_domains\": [\"nature.com\"],  # Domains that were included\n        \"excluded_domains\": [\"reddit.com\"]   # Domains that were excluded\n    }\n}\n```\n\n## API reference\n\nFor detailed documentation of all ParallelWebSearchTool features and configurations head to the API reference: https://python.langchain.com/api_reference/parallel_web/search_tool/langchain_parallel_web.search_tool.ParallelWebSearchTool.html"
  }
 ],
 "metadata": {
  "kernelspec": {
   "display_name": "poetry-venv-311",
   "language": "python",
   "name": "poetry-venv-311"
  },
  "language_info": {
   "codemirror_mode": {
    "name": "ipython",
    "version": 3
   },
   "file_extension": ".py",
   "mimetype": "text/x-python",
   "name": "python",
   "nbconvert_exporter": "python",
   "pygments_lexer": "ipython3",
   "version": "3.11.9"
  }
 },
 "nbformat": 4,
 "nbformat_minor": 5
}